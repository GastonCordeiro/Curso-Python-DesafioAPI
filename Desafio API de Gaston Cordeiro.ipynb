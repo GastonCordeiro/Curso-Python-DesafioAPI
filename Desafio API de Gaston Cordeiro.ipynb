{
 "cells": [
  {
   "cell_type": "code",
   "execution_count": 1,
   "metadata": {},
   "outputs": [],
   "source": [
    "import requests"
   ]
  },
  {
   "cell_type": "code",
   "execution_count": 2,
   "metadata": {},
   "outputs": [
    {
     "data": {
      "text/plain": [
       "<Response [200]>"
      ]
     },
     "execution_count": 2,
     "metadata": {},
     "output_type": "execute_result"
    }
   ],
   "source": [
    "requests.get(\"https://reqres.in/api/users\")"
   ]
  },
  {
   "cell_type": "code",
   "execution_count": 3,
   "metadata": {},
   "outputs": [
    {
     "data": {
      "text/plain": [
       "<Response [200]>"
      ]
     },
     "execution_count": 3,
     "metadata": {},
     "output_type": "execute_result"
    }
   ],
   "source": [
    "requests.request(\"GET\", \"https://reqres.in/api/users\")"
   ]
  },
  {
   "cell_type": "code",
   "execution_count": 4,
   "metadata": {},
   "outputs": [
    {
     "data": {
      "text/plain": [
       "201"
      ]
     },
     "execution_count": 4,
     "metadata": {},
     "output_type": "execute_result"
    }
   ],
   "source": [
    "verbo = \"POST\"\n",
    "url = \"https://reqres.in/api/users\"\n",
    "payload = {\n",
    "    \"name\": \"Gaston\",\n",
    "    \"job\": \"Developer\"\n",
    "}\n",
    "\n",
    "requests.request(verbo, url, data=payload).status_code"
   ]
  },
  {
   "cell_type": "code",
   "execution_count": 5,
   "metadata": {},
   "outputs": [],
   "source": [
    "def request(method, url, payload = \"\"):\n",
    "    \n",
    "    \n",
    "    response = requests.request(verbo, url, data=payload)\n",
    "    \n",
    "    if method == \"DELETE\":\n",
    "        \n",
    "        return response.status_code\n",
    "    else:\n",
    "        \n",
    "        return response.status_code, response.json()\n",
    "    "
   ]
  },
  {
   "cell_type": "code",
   "execution_count": 8,
   "metadata": {},
   "outputs": [
    {
     "data": {
      "text/plain": [
       "201"
      ]
     },
     "execution_count": 8,
     "metadata": {},
     "output_type": "execute_result"
    }
   ],
   "source": [
    "request(\"GET\", url)[0]"
   ]
  },
  {
   "cell_type": "code",
   "execution_count": 13,
   "metadata": {},
   "outputs": [],
   "source": [
    "def request(method, url, payload = \"\"):\n",
    "    \n",
    "    \n",
    "    response = requests.request(method, url, data=payload)\n",
    "    \n",
    "    if method == \"DELETE\":\n",
    "        \n",
    "        return response.status_code\n",
    "    else:\n",
    "        \n",
    "        return response.status_code, response.json()"
   ]
  },
  {
   "cell_type": "code",
   "execution_count": 14,
   "metadata": {},
   "outputs": [],
   "source": [
    "usuarios = request(\"GET\", url)"
   ]
  },
  {
   "cell_type": "code",
   "execution_count": null,
   "metadata": {},
   "outputs": [],
   "source": []
  },
  {
   "cell_type": "code",
   "execution_count": 16,
   "metadata": {},
   "outputs": [
    {
     "name": "stdout",
     "output_type": "stream",
     "text": [
      "{'id': 1, 'email': 'george.bluth@reqres.in', 'first_name': 'George', 'last_name': 'Bluth', 'avatar': 'https://s3.amazonaws.com/uifaces/faces/twitter/calebogden/128.jpg'}\n",
      "George Bluth\n",
      "{'id': 2, 'email': 'janet.weaver@reqres.in', 'first_name': 'Janet', 'last_name': 'Weaver', 'avatar': 'https://s3.amazonaws.com/uifaces/faces/twitter/josephstein/128.jpg'}\n",
      "Janet Weaver\n",
      "{'id': 3, 'email': 'emma.wong@reqres.in', 'first_name': 'Emma', 'last_name': 'Wong', 'avatar': 'https://s3.amazonaws.com/uifaces/faces/twitter/olegpogodaev/128.jpg'}\n",
      "Emma Wong\n"
     ]
    }
   ],
   "source": [
    "if usuarios[0] == 200:\n",
    "   \n",
    "    for i in usuarios[1][\"data\"]:\n",
    "        print(i)\n",
    "        print(i[\"first_name\"], i[\"last_name\"])\n",
    "    \n",
    "else:\n",
    "    print(\"Algo salio mal\")"
   ]
  },
  {
   "cell_type": "code",
   "execution_count": 17,
   "metadata": {},
   "outputs": [],
   "source": [
    "total_paginas = request(\"GET\", \"https://reqres.in/api/users\")[1][\"total_pages\"]"
   ]
  },
  {
   "cell_type": "code",
   "execution_count": 19,
   "metadata": {},
   "outputs": [
    {
     "name": "stdout",
     "output_type": "stream",
     "text": [
      "George Bluth tiene el email george.bluth@reqres.in\n",
      "Janet Weaver tiene el email janet.weaver@reqres.in\n",
      "Emma Wong tiene el email emma.wong@reqres.in\n",
      "Eve Holt tiene el email eve.holt@reqres.in\n",
      "Charles Morris tiene el email charles.morris@reqres.in\n",
      "Tracey Ramos tiene el email tracey.ramos@reqres.in\n",
      "Michael Lawson tiene el email michael.lawson@reqres.in\n",
      "Lindsay Ferguson tiene el email lindsay.ferguson@reqres.in\n",
      "Tobias Funke tiene el email tobias.funke@reqres.in\n",
      "Byron Fields tiene el email byron.fields@reqres.in\n",
      "George Edwards tiene el email george.edwards@reqres.in\n",
      "Rachel Howell tiene el email rachel.howell@reqres.in\n"
     ]
    }
   ],
   "source": [
    "for i in range(1, total_paginas+1):\n",
    "    \n",
    "    response = request(\"GET\", \"https://reqres.in/api/users?page={}\".format(i))[1]\n",
    "    \n",
    "    for user in response[\"data\"]:\n",
    "        \n",
    "        print(\"{} {} tiene el email {}\".format(user[\"first_name\"], user[\"last_name\"], user[\"email\"]))"
   ]
  },
  {
   "cell_type": "code",
   "execution_count": 46,
   "metadata": {},
   "outputs": [
    {
     "data": {
      "text/plain": [
       "(201,\n",
       " {'name': 'Gaston',\n",
       "  'job': 'developer',\n",
       "  'id': '239',\n",
       "  'createdAt': '2019-07-23T23:46:12.412Z'})"
      ]
     },
     "execution_count": 46,
     "metadata": {},
     "output_type": "execute_result"
    }
   ],
   "source": [
    "request(\"POST\", url, payload={\"name\": \"Gaston\", \"job\": \"developer\"})"
   ]
  },
  {
   "cell_type": "code",
   "execution_count": 48,
   "metadata": {},
   "outputs": [
    {
     "data": {
      "text/plain": [
       "(201,\n",
       " {'name': 'Gaston',\n",
       "  'job': 'cantante',\n",
       "  'id': '28',\n",
       "  'createdAt': '2019-07-23T23:49:31.378Z'})"
      ]
     },
     "execution_count": 48,
     "metadata": {},
     "output_type": "execute_result"
    }
   ],
   "source": [
    "request(\"PUT\", url + \"/2\", payload={\"name\": \"Gaston\", \"job\": \"cantante\"})"
   ]
  },
  {
   "cell_type": "code",
   "execution_count": 49,
   "metadata": {},
   "outputs": [
    {
     "data": {
      "text/plain": [
       "201"
      ]
     },
     "execution_count": 49,
     "metadata": {},
     "output_type": "execute_result"
    }
   ],
   "source": [
    "request(\"DELETE\", url + \"/2\")"
   ]
  },
  {
   "cell_type": "code",
   "execution_count": null,
   "metadata": {},
   "outputs": [],
   "source": []
  }
 ],
 "metadata": {
  "kernelspec": {
   "display_name": "Python 3",
   "language": "python",
   "name": "python3"
  },
  "language_info": {
   "codemirror_mode": {
    "name": "ipython",
    "version": 3
   },
   "file_extension": ".py",
   "mimetype": "text/x-python",
   "name": "python",
   "nbconvert_exporter": "python",
   "pygments_lexer": "ipython3",
   "version": "3.7.3"
  }
 },
 "nbformat": 4,
 "nbformat_minor": 2
}
